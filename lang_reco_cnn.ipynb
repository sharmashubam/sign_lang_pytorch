{
 "cells": [
  {
   "cell_type": "code",
   "execution_count": 59,
   "id": "7ff3c1a1",
   "metadata": {},
   "outputs": [
    {
     "name": "stdout",
     "output_type": "stream",
     "text": [
      "2.0.1+cu117\n"
     ]
    }
   ],
   "source": [
    "import torch\n",
    "import torchvision\n",
    "import pandas as pd\n",
    "import matplotlib.pyplot as plt\n",
    "from torch import nn\n",
    "import torch.nn as nn\n",
    "from torch.utils.data import Dataset, DataLoader \n",
    "from tqdm import tqdm\n",
    "from sklearn.model_selection import train_test_split\n",
    "from sklearn.metrics import accuracy_score, confusion_matrix, classification_report\n",
    "import matplotlib\n",
    "import numpy as np\n",
    "import torchvision.transforms as Transforms\n",
    "\n",
    "print(torch.__version__)"
   ]
  },
  {
   "cell_type": "code",
   "execution_count": 17,
   "id": "1f287b77",
   "metadata": {},
   "outputs": [
    {
     "name": "stdout",
     "output_type": "stream",
     "text": [
      "Defaulting to user installation because normal site-packages is not writeable\n",
      "\u001b[33mDEPRECATION: Loading egg at /usr/local/lib/python3.11/site-packages/buildozer-1.5.1.dev0-py3.11.egg is deprecated. pip 23.3 will enforce this behaviour change. A possible replacement is to use pip for package installation..\u001b[0m\u001b[33m\n",
      "\u001b[0m\u001b[33mDEPRECATION: Loading egg at /usr/local/lib/python3.11/site-packages/sh-2.0.4-py3.11.egg is deprecated. pip 23.3 will enforce this behaviour change. A possible replacement is to use pip for package installation..\u001b[0m\u001b[33m\n",
      "\u001b[0mRequirement already satisfied: torchsummary in /home/shubamsharma/.local/lib/python3.11/site-packages (1.5.1)\n",
      "\n",
      "\u001b[1m[\u001b[0m\u001b[34;49mnotice\u001b[0m\u001b[1;39;49m]\u001b[0m\u001b[39;49m A new release of pip is available: \u001b[0m\u001b[31;49m23.2.1\u001b[0m\u001b[39;49m -> \u001b[0m\u001b[32;49m23.3\u001b[0m\n",
      "\u001b[1m[\u001b[0m\u001b[34;49mnotice\u001b[0m\u001b[1;39;49m]\u001b[0m\u001b[39;49m To update, run: \u001b[0m\u001b[32;49mpython3 -m pip install --upgrade pip\u001b[0m\n"
     ]
    }
   ],
   "source": [
    "!pip install torchsummary"
   ]
  },
  {
   "cell_type": "code",
   "execution_count": 18,
   "id": "37ca6124",
   "metadata": {},
   "outputs": [],
   "source": [
    "from torchsummary import summary\n",
    "matplotlib.rcParams['figure.facecolor']= 'white'"
   ]
  },
  {
   "cell_type": "code",
   "execution_count": 28,
   "id": "80136461",
   "metadata": {},
   "outputs": [],
   "source": [
    "train_df = pd.read_csv('sign_mnist_train/sign_mnist_train.csv')\n",
    "test_df = pd.read_csv('sign_mnist_test/sign_mnist_test.csv')"
   ]
  },
  {
   "cell_type": "code",
   "execution_count": 35,
   "id": "32723b18",
   "metadata": {},
   "outputs": [
    {
     "name": "stdout",
     "output_type": "stream",
     "text": [
      "<class 'pandas.core.frame.DataFrame'>\n",
      "RangeIndex: 7172 entries, 0 to 7171\n",
      "Columns: 785 entries, label to pixel784\n",
      "dtypes: int64(785)\n",
      "memory usage: 43.0 MB\n",
      "   label  pixel1  pixel2  pixel3  pixel4  pixel5  pixel6  pixel7  pixel8  \\\n",
      "0      3     107     118     127     134     139     143     146     150   \n",
      "1      6     155     157     156     156     156     157     156     158   \n",
      "2      2     187     188     188     187     187     186     187     188   \n",
      "3      2     211     211     212     212     211     210     211     210   \n",
      "4     13     164     167     170     172     176     179     180     184   \n",
      "\n",
      "   pixel9  ...  pixel775  pixel776  pixel777  pixel778  pixel779  pixel780  \\\n",
      "0     153  ...       207       207       207       207       206       206   \n",
      "1     158  ...        69       149       128        87        94       163   \n",
      "2     187  ...       202       201       200       199       198       199   \n",
      "3     210  ...       235       234       233       231       230       226   \n",
      "4     185  ...        92       105       105       108       133       163   \n",
      "\n",
      "   pixel781  pixel782  pixel783  pixel784  \n",
      "0       206       204       203       202  \n",
      "1       175       103       135       149  \n",
      "2       198       195       194       195  \n",
      "3       225       222       229       163  \n",
      "4       157       163       164       179  \n",
      "\n",
      "[5 rows x 785 columns] \n",
      " shope of the train_set is : \n",
      " (27455, 785) Info : \n",
      " None\n"
     ]
    }
   ],
   "source": [
    "print(train_df.head() , '\\n',\"shope of the train_set is : \\n\", train_df.shape, \"Info : \\n\", test_df.info())"
   ]
  },
  {
   "cell_type": "code",
   "execution_count": 39,
   "id": "c63bdeb8",
   "metadata": {},
   "outputs": [
    {
     "name": "stdout",
     "output_type": "stream",
     "text": [
      "<class 'pandas.core.frame.DataFrame'>\n",
      "RangeIndex: 7172 entries, 0 to 7171\n",
      "Columns: 785 entries, label to pixel784\n",
      "dtypes: int64(785)\n",
      "memory usage: 43.0 MB\n",
      "   label  pixel1  pixel2  pixel3  pixel4  pixel5  pixel6  pixel7  pixel8  \\\n",
      "0      6     149     149     150     150     150     151     151     150   \n",
      "1      5     126     128     131     132     133     134     135     135   \n",
      "2     10      85      88      92      96     105     123     135     143   \n",
      "3      0     203     205     207     206     207     209     210     209   \n",
      "4      3     188     191     193     195     199     201     202     203   \n",
      "\n",
      "   pixel9  ...  pixel775  pixel776  pixel777  pixel778  pixel779  pixel780  \\\n",
      "0     151  ...       138       148       127        89        82        96   \n",
      "1     136  ...        47       104       194       183       186       184   \n",
      "2     147  ...        68       166       242       227       230       227   \n",
      "3     210  ...       154       248       247       248       253       236   \n",
      "4     203  ...        26        40        64        48        29        46   \n",
      "\n",
      "   pixel781  pixel782  pixel783  pixel784  \n",
      "0       106       112       120       107  \n",
      "1       184       184       182       180  \n",
      "2       226       225       224       222  \n",
      "3       230       240       253       255  \n",
      "4        49        46        46        53  \n",
      "\n",
      "[5 rows x 785 columns] \n",
      " shope of the train_set is : \n",
      " (7172, 785) Info : \n",
      " None\n"
     ]
    }
   ],
   "source": [
    "print(test_df.head() , '\\n',\"shope of the train_set is : \\n\", test_df.shape, \"Info : \\n\", test_df.info())"
   ]
  },
  {
   "cell_type": "code",
   "execution_count": 44,
   "id": "20ebf11a",
   "metadata": {},
   "outputs": [
    {
     "data": {
      "text/plain": [
       "{0: 'a',\n",
       " 1: 'b',\n",
       " 2: 'c',\n",
       " 3: 'd',\n",
       " 4: 'e',\n",
       " 5: 'f',\n",
       " 6: 'g',\n",
       " 7: 'h',\n",
       " 8: 'i',\n",
       " 9: 'j',\n",
       " 10: 'k',\n",
       " 11: 'l',\n",
       " 12: 'm',\n",
       " 13: 'n',\n",
       " 14: 'o',\n",
       " 15: 'p',\n",
       " 16: 'q',\n",
       " 17: 'r',\n",
       " 18: 's',\n",
       " 19: 't',\n",
       " 20: 'u',\n",
       " 21: 'v',\n",
       " 22: 'w',\n",
       " 23: 'x',\n",
       " 24: 'y',\n",
       " 25: 'z'}"
      ]
     },
     "execution_count": 44,
     "metadata": {},
     "output_type": "execute_result"
    }
   ],
   "source": [
    "import string \n",
    "\n",
    "alpha_dict = {idx:letter for idx, letter in enumerate(string.ascii_lowercase)}\n",
    "alpha_dict\n"
   ]
  },
  {
   "cell_type": "code",
   "execution_count": 55,
   "id": "dd89eaa2",
   "metadata": {},
   "outputs": [
    {
     "data": {
      "text/plain": [
       "<Axes: xlabel='label', ylabel='count'>"
      ]
     },
     "execution_count": 55,
     "metadata": {},
     "output_type": "execute_result"
    },
    {
     "data": {
      "image/png": "[encoded data removed]",
      "text/plain": [
       "<Figure size 640x480 with 1 Axes>"
      ]
     },
     "metadata": {},
     "output_type": "display_data"
    }
   ],
   "source": [
    "import seaborn as sns\n",
    "\n",
    "alpha_labels = train_df.label.apply(lambda x: alpha_dict[x])\n",
    "sns.countplot(x=alpha_labels)"
   ]
  },
  {
   "cell_type": "code",
   "execution_count": 92,
   "id": "0671716a",
   "metadata": {},
   "outputs": [],
   "source": [
    "# creating the custom dataset class\n",
    "\n",
    "class CustomSignDataset(Dataset):\n",
    "    def __init__(self, img, label):\n",
    "        \n",
    "        self.classes = np.array(label)\n",
    "#         img = img /255.0\n",
    "\n",
    "        self.img = np.array(img).reshape(-1,28,28,1)\n",
    "        \n",
    "        self.transform = Transforms.Compose([Transforms.ToTensor()])\n",
    "\n",
    "    def __len__(self):\n",
    "        return len(self.img)\n",
    "    \n",
    "    def __getitem__(self, index):\n",
    "        \n",
    "        label = self.classes[index]\n",
    "        img = self.img[index]\n",
    "        \n",
    "        img = self.transform(img)\n",
    "        label= torch.LongTensor([label])\n",
    "        img = img.float()\n",
    "\n",
    "        \n",
    "        return img,label"
   ]
  },
  {
   "cell_type": "code",
   "execution_count": 93,
   "id": "5e49c88e",
   "metadata": {},
   "outputs": [],
   "source": [
    "train_set = CustomSignDataset(train_df.drop(['label'], axis=1), train_df['label'])\n",
    "test_set = CustomSignDataset(test_df.drop(['label'], axis=1), test_df['label'])"
   ]
  },
  {
   "cell_type": "code",
   "execution_count": 94,
   "id": "df06a769",
   "metadata": {},
   "outputs": [],
   "source": [
    "# show a single image\n",
    "def show_image(img, label, dataset):\n",
    "    plt.imshow(img)\n",
    "    plt.axis('off')\n",
    "    plt.title(f\"Label: {dataset.classes[label]}\\nAlpha Label: {alpha_dict[dataset.classes[label]]}\")\n"
   ]
  },
  {
   "cell_type": "code",
   "execution_count": 95,
   "id": "82b96d9a",
   "metadata": {},
   "outputs": [
    {
     "data": {
      "image/png": "[encoded data removed]",
      "text/plain": [
       "<Figure size 640x480 with 1 Axes>"
      ]
     },
     "metadata": {},
     "output_type": "display_data"
    }
   ],
   "source": [
    "show_image(train_set.img[4],train_set.classes[4] ,train_set)"
   ]
  },
  {
   "cell_type": "code",
   "execution_count": 96,
   "id": "7979faf5",
   "metadata": {},
   "outputs": [],
   "source": [
    "BATCH_SIZE = 32\n",
    "train_dl = DataLoader(train_set, batch_size=BATCH_SIZE, shuffle= True)\n",
    "test_dl = DataLoader(test_set, batch_size=BATCH_SIZE, shuffle= True)\n"
   ]
  },
  {
   "cell_type": "code",
   "execution_count": 112,
   "id": "c23c9a0b",
   "metadata": {},
   "outputs": [
    {
     "data": {
      "text/plain": [
       "(torch.Size([32, 1, 28, 28]), torch.Size([32, 1]))"
      ]
     },
     "execution_count": 112,
     "metadata": {},
     "output_type": "execute_result"
    }
   ],
   "source": [
    "train_features_batch, train_labels_batch = next(iter(train_dl))\n",
    "train_features_batch.shape, train_labels_batch.shape"
   ]
  },
  {
   "cell_type": "code",
   "execution_count": 115,
   "id": "a41e4887",
   "metadata": {},
   "outputs": [],
   "source": [
    "class SignModelV0(nn.Module):\n",
    "    def __init__(self, input_shape: int, hidden_units: int, output_shape: int):\n",
    "        super().__init__()\n",
    "        self.layer_1 = nn.Sequential(\n",
    "            nn.Conv2d(in_channels=input_shape, \n",
    "                      out_channels=hidden_units,\n",
    "                      kernel_size=3,\n",
    "                      stride=1,\n",
    "                      padding=1),\n",
    "            nn.ReLU(),\n",
    "            \n",
    "            nn.Conv2d(in_channels=hidden_units,\n",
    "                      out_channels=hidden_units,\n",
    "                      kernel_size=3,\n",
    "                      stride=1,\n",
    "                      padding=1),\n",
    "            \n",
    "            nn.ReLU(),\n",
    "            nn.MaxPool2d(kernel_size=2),\n",
    "        )\n",
    "\n",
    "        self.layer_2 = nn.Sequential(\n",
    "            nn.Conv2d(in_channels=hidden_units, \n",
    "                      out_channels=hidden_units, \n",
    "                      kernel_size=3,\n",
    "                      padding=1),\n",
    "            \n",
    "            nn.ReLU(),\n",
    "            \n",
    "            nn.Conv2d(in_channels=hidden_units, \n",
    "                      out_channels=hidden_units,\n",
    "                      kernel_size=3,\n",
    "                      padding=1),\n",
    "            \n",
    "            nn.ReLU(),\n",
    "            nn.MaxPool2d(kernel_size=2),\n",
    "        )\n",
    "\n",
    "        self.layer_3 = nn.Sequential(\n",
    "            nn.Flatten(),\n",
    "            nn.Linear(in_features=hidden_units * 7 * 7, \n",
    "                      out_features=output_shape)\n",
    "        )\n",
    "\n",
    "    def forward(self, x: torch.Tensor):\n",
    "        x = self.layer_1(x)\n",
    "        x = self.layer_2(x)\n",
    "        x = self.layer_3(x)\n",
    "        return x\n"
   ]
  },
  {
   "cell_type": "code",
   "execution_count": 118,
   "id": "fec370b9",
   "metadata": {},
   "outputs": [],
   "source": [
    "num_classes = len(alpha_dict)\n"
   ]
  },
  {
   "cell_type": "code",
   "execution_count": null,
   "id": "49b2fdc5",
   "metadata": {},
   "outputs": [],
   "source": [
    "# setting agnostic device\n"
   ]
  }
 ],
 "metadata": {
  "kernelspec": {
   "display_name": "Python 3 (ipykernel)",
   "language": "python",
   "name": "python3"
  },
  "language_info": {
   "codemirror_mode": {
    "name": "ipython",
    "version": 3
   },
   "file_extension": ".py",
   "mimetype": "text/x-python",
   "name": "python",
   "nbconvert_exporter": "python",
   "pygments_lexer": "ipython3",
   "version": "3.11.5"
  }
 },
 "nbformat": 4,
 "nbformat_minor": 5
}
